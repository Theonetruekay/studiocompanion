{
 "cells": [
  {
   "cell_type": "code",
   "execution_count": 2,
   "metadata": {},
   "outputs": [
    {
     "ename": "SystemExit",
     "evalue": "",
     "output_type": "error",
     "traceback": [
      "An exception has occurred, use %tb to see the full traceback.\n",
      "\u001b[1;31mSystemExit\u001b[0m\n"
     ]
    }
   ],
   "source": [
    "import pygame\n",
    "import sys\n",
    "\n",
    "# Initialize Pygame\n",
    "pygame.init()\n",
    "\n",
    "# Constants\n",
    "WIDTH, HEIGHT = 800, 600\n",
    "WINDOW = pygame.display.set_mode((WIDTH, HEIGHT))\n",
    "pygame.display.set_caption(\"Simple RPG\")\n",
    "FPS = 30\n",
    "PLAYER_SIZE = 50\n",
    "NPC_SIZE = 50\n",
    "FONT = pygame.font.Font(None, 36)\n",
    "\n",
    "# Colors\n",
    "WHITE = (255, 255, 255)\n",
    "BLACK = (0, 0, 0)\n",
    "BLUE = (0, 0, 255)\n",
    "GREEN = (0, 255, 0)\n",
    "\n",
    "# Initialize variables\n",
    "player_pos = [WIDTH // 2, HEIGHT // 2]\n",
    "npc_pos = [100, 100]\n",
    "dialog_box = False\n",
    "\n",
    "clock = pygame.time.Clock()\n",
    "\n",
    "# Main Loop\n",
    "while True:\n",
    "    clock.tick(FPS)\n",
    "\n",
    "    for event in pygame.event.get():\n",
    "        if event.type == pygame.QUIT:\n",
    "            pygame.quit()\n",
    "            sys.exit()\n",
    "\n",
    "    keys = pygame.key.get_pressed()\n",
    "\n",
    "    if keys[pygame.K_LEFT]:\n",
    "        player_pos[0] -= 5\n",
    "    if keys[pygame.K_RIGHT]:\n",
    "        player_pos[0] += 5\n",
    "    if keys[pygame.K_UP]:\n",
    "        player_pos[1] -= 5\n",
    "    if keys[pygame.K_DOWN]:\n",
    "        player_pos[1] += 5\n",
    "\n",
    "    # NPC interaction: Dialog box\n",
    "    if pygame.Rect(player_pos[0], player_pos[1], PLAYER_SIZE, PLAYER_SIZE).colliderect(npc_pos[0], npc_pos[1], NPC_SIZE, NPC_SIZE):\n",
    "        dialog_box = True\n",
    "    else:\n",
    "        dialog_box = False\n",
    "\n",
    "    # Drawing\n",
    "    WINDOW.fill(WHITE)\n",
    "    pygame.draw.rect(WINDOW, BLUE, (player_pos[0], player_pos[1], PLAYER_SIZE, PLAYER_SIZE))\n",
    "    pygame.draw.rect(WINDOW, GREEN, (npc_pos[0], npc_pos[1], NPC_SIZE, NPC_SIZE))\n",
    "\n",
    "    if dialog_box:\n",
    "        pygame.draw.rect(WINDOW, BLACK, (100, 500, 600, 100))\n",
    "        dialog_text = FONT.render('Thank You!', True, WHITE)\n",
    "        WINDOW.blit(dialog_text, (350, 525))\n",
    "\n",
    "    pygame.display.flip()\n"
   ]
  },
  {
   "cell_type": "markdown",
   "metadata": {},
   "source": []
  }
 ],
 "metadata": {
  "kernelspec": {
   "display_name": "Python 3",
   "language": "python",
   "name": "python3"
  },
  "language_info": {
   "codemirror_mode": {
    "name": "ipython",
    "version": 3
   },
   "file_extension": ".py",
   "mimetype": "text/x-python",
   "name": "python",
   "nbconvert_exporter": "python",
   "pygments_lexer": "ipython3",
   "version": "3.9.18"
  },
  "orig_nbformat": 4
 },
 "nbformat": 4,
 "nbformat_minor": 2
}
